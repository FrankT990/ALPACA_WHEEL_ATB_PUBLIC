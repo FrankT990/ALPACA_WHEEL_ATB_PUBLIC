{
  "nbformat": 4,
  "nbformat_minor": 0,
  "metadata": {
    "colab": {
      "provenance": [],
      "authorship_tag": "ABX9TyMGGOaR4dEF/csYQNl8TG7N",
      "include_colab_link": true
    },
    "kernelspec": {
      "name": "python3",
      "display_name": "Python 3"
    },
    "language_info": {
      "name": "python"
    }
  },
  "cells": [
    {
      "cell_type": "markdown",
      "metadata": {
        "id": "view-in-github",
        "colab_type": "text"
      },
      "source": [
        "<a href=\"https://colab.research.google.com/github/FrankT990/ALPACA_WHEEL_ATB_PUBLIC/blob/main/Alpaca_Wheel_Paper_Tester.ipynb\" target=\"_parent\"><img src=\"https://colab.research.google.com/assets/colab-badge.svg\" alt=\"Open In Colab\"/></a>"
      ]
    },
    {
      "cell_type": "code",
      "source": [
        "!pip install requests\n",
        "!pip install pandas\n",
        "import time\n",
        "import json\n",
        "import requests\n",
        "import pandas as pd\n",
        "import math\n",
        "import time\n",
        "from datetime import datetime, timedelta\n"
      ],
      "metadata": {
        "id": "c1qTrwxSsL4R"
      },
      "execution_count": null,
      "outputs": []
    },
    {
      "cell_type": "code",
      "source": [
        "#########################\n",
        "#### BEGIN VARIABLES ####\n",
        "#########################\n",
        "\n",
        "headers = {\n",
        "    \"APCA-API-KEY-ID\": \"PKX38EM432GQ49SYV8SA\",\n",
        "    \"APCA-API-SECRET-KEY\": \"lXwrv1l82QIQvvwakv6hWQ8s6JYSmEEW9MAu7vX8\"\n",
        "}\n",
        "\n",
        "url = \"https://paper-api.alpaca.markets\"\n",
        "#########################\n",
        "##### END VARIABLES #####\n",
        "#########################\n",
        "\n",
        "def trades_active():\n",
        "    response = requests.get(url+\"/positions\", headers=headers)\n",
        "    if (response.status_code == 200):\n",
        "      positions = response.json()\n",
        "      for position in positions:\n",
        "         if (len(position['symbol']) > 4):\n",
        "            return True\n",
        "      return False\n",
        "    else:\n",
        "       time.sleep(60)\n",
        "       trades_active()\n",
        "\n",
        "def puts_cycle(tkr):\n",
        "   response = requests.get(url+\"/positions\", headers=headers)\n",
        "   if (response.status_code == 200):\n",
        "      positions = response.json()\n",
        "      for position in positions:\n",
        "         if (position['symbol']==tkr):\n",
        "            if(int(position['qty']) >= 100):\n",
        "               return True\n",
        "      return False\n",
        "   else:\n",
        "      time.sleep(60)\n",
        "      puts_cycle(tkr)\n",
        "\n",
        "\n",
        "def get_current_price(tkr):\n",
        "    endpoint = f\"{url}/v2/stocks/{tkr}/quotes/latest\"\n",
        "    price_data = requests.get(endpoint, headers=headers).json()\n",
        "    return price_data\n",
        "\n",
        "def get_exp_date():\n",
        "   return (datetime.now() + timedelta(days=7)).strftime('%Y-%m-%d')\n",
        "\n",
        "def sell_puts(tkr):\n",
        "    date = get_exp_date() # ONE WEEK INTO FURUTRE YYYY-MM-DD # exp_date = get_exp_date\n",
        "    curr_price = get_current_price(tkr) # USE AS UPPER BOUND\n",
        "    strike_price = math.floor(curr_price - (math.ceil(curr_price * .01))) # USE AS LOWER BOUND\n",
        "\n",
        "    puts_url = url+f\"/options/contracts?underlying_symbol={tkr}&expiration_date={date}&type=put&strike_price_gte={strike_price}&strike_price_lte={curr_price}&limit=20\"\n",
        "    puts_resp = requests.get(puts_url, headers=headers)\n",
        "    if (puts_resp.status_code == 200): #add successful request check (if response 200 and len >= 1 continue, else wait and call function)\n",
        "       #submit order\n",
        "       puts_data = puts_resp.json()['option_contracts']\n",
        "       if (len(puts_data) >= 1 ):\n",
        "        sell_puts_payload = {\n",
        "            \"symbol\": puts_data[len(puts_data)-1]['symbol'], # EX OF id: \"AAPL231201P00175000\"\n",
        "            \"qty\": \"1\",\n",
        "            \"side\": \"sell\",\n",
        "            \"type\": \"market\",\n",
        "            \"time_in_force\": \"day\"\n",
        "            }\n",
        "        response = requests.post(url+\"/orders\", json=sell_puts_payload, headers=headers)\n",
        "       else:\n",
        "          time.sleep(300)\n",
        "          sell_puts(tkr)\n",
        "    else:\n",
        "       time.sleep(300)\n",
        "       sell_puts(tkr)\n",
        "\n",
        "def sell_calls(tkr):\n",
        "    date = get_exp_date() # ONE WEEK INTO FURUTRE YYYY-MM-DD # exp_date = get_exp_date\n",
        "    strike_price = math.ceil(get_current_price())\n",
        "    calls_url = url+f\"/options/contracts?underlying_symbol={tkr}&expiration_date={date}&strike_price_gte={strike_price}&strike_price_lte={strike_price+1}&limit=20\"\n",
        "    calls_response = requests.get(calls_url, headers=headers)\n",
        "    if (calls_response.status_code == 200): #add successful request check (if response 200 and len >= 1 continue, else wait and call function)\n",
        "       calls_data = calls_response.json()['option_contracts']\n",
        "       if (len(calls_data) >=1):\n",
        "        sell_calls_payload = {\n",
        "        \"symbol\": calls_data[len(calls_data)-1]['symbol'], # EX OF id: \"AAPL231201P00175000\"\n",
        "        \"qty\": \"1\",\n",
        "        \"side\": \"sell\",\n",
        "        \"type\": \"market\",\n",
        "        \"time_in_force\": \"day\"\n",
        "        }\n",
        "        response = requests.post(url+\"/orders\", json=sell_calls_payload, headers=headers)\n",
        "       else:\n",
        "          time.sleep(300)\n",
        "          sell_calls(tkr)\n",
        "    else:\n",
        "       time.sleep(300)\n",
        "       sell_calls(tkr)\n"
      ],
      "metadata": {
        "id": "Gah2ODw9_8nP"
      },
      "execution_count": 6,
      "outputs": []
    },
    {
      "cell_type": "code",
      "source": [
        "\n",
        "print(get_current_price('NVDA'))\n",
        "\n"
      ],
      "metadata": {
        "id": "0KsWa2MWvTUc",
        "colab": {
          "base_uri": "https://localhost:8080/",
          "height": 280
        },
        "outputId": "c0aea24b-a4f3-450f-b0e3-536247ea891d"
      },
      "execution_count": 8,
      "outputs": [
        {
          "output_type": "error",
          "ename": "KeyError",
          "evalue": "'bars'",
          "traceback": [
            "\u001b[0;31m---------------------------------------------------------------------------\u001b[0m",
            "\u001b[0;31mKeyError\u001b[0m                                  Traceback (most recent call last)",
            "\u001b[0;32m<ipython-input-8-7dc3f829e01c>\u001b[0m in \u001b[0;36m<cell line: 1>\u001b[0;34m()\u001b[0m\n\u001b[0;32m----> 1\u001b[0;31m \u001b[0mprint\u001b[0m\u001b[0;34m(\u001b[0m\u001b[0mget_current_price\u001b[0m\u001b[0;34m(\u001b[0m\u001b[0;34m'NVDA'\u001b[0m\u001b[0;34m)\u001b[0m\u001b[0;34m)\u001b[0m\u001b[0;34m\u001b[0m\u001b[0;34m\u001b[0m\u001b[0m\n\u001b[0m\u001b[1;32m      2\u001b[0m \u001b[0;34m\u001b[0m\u001b[0m\n",
            "\u001b[0;32m<ipython-input-6-a909ca8b06f1>\u001b[0m in \u001b[0;36mget_current_price\u001b[0;34m(tkr)\u001b[0m\n\u001b[1;32m     42\u001b[0m     \u001b[0mendpoint\u001b[0m \u001b[0;34m=\u001b[0m \u001b[0;34mf\"{url}/v2/stocks/{tkr}/quotes/latest\"\u001b[0m\u001b[0;34m\u001b[0m\u001b[0;34m\u001b[0m\u001b[0m\n\u001b[1;32m     43\u001b[0m     \u001b[0mprice_data\u001b[0m \u001b[0;34m=\u001b[0m \u001b[0mrequests\u001b[0m\u001b[0;34m.\u001b[0m\u001b[0mget\u001b[0m\u001b[0;34m(\u001b[0m\u001b[0mendpoint\u001b[0m\u001b[0;34m,\u001b[0m \u001b[0mheaders\u001b[0m\u001b[0;34m=\u001b[0m\u001b[0mheaders\u001b[0m\u001b[0;34m)\u001b[0m\u001b[0;34m.\u001b[0m\u001b[0mjson\u001b[0m\u001b[0;34m(\u001b[0m\u001b[0;34m)\u001b[0m\u001b[0;34m\u001b[0m\u001b[0;34m\u001b[0m\u001b[0m\n\u001b[0;32m---> 44\u001b[0;31m     \u001b[0;32mreturn\u001b[0m \u001b[0mfloat\u001b[0m\u001b[0;34m(\u001b[0m\u001b[0mprice_data\u001b[0m\u001b[0;34m[\u001b[0m\u001b[0;34m'bars'\u001b[0m\u001b[0;34m]\u001b[0m\u001b[0;34m[\u001b[0m\u001b[0;34mf\"{tkr}\"\u001b[0m\u001b[0;34m]\u001b[0m\u001b[0;34m[\u001b[0m\u001b[0;34m'c'\u001b[0m\u001b[0;34m]\u001b[0m\u001b[0;34m)\u001b[0m\u001b[0;34m\u001b[0m\u001b[0;34m\u001b[0m\u001b[0m\n\u001b[0m\u001b[1;32m     45\u001b[0m \u001b[0;34m\u001b[0m\u001b[0m\n\u001b[1;32m     46\u001b[0m \u001b[0;32mdef\u001b[0m \u001b[0mget_exp_date\u001b[0m\u001b[0;34m(\u001b[0m\u001b[0;34m)\u001b[0m\u001b[0;34m:\u001b[0m\u001b[0;34m\u001b[0m\u001b[0;34m\u001b[0m\u001b[0m\n",
            "\u001b[0;31mKeyError\u001b[0m: 'bars'"
          ]
        }
      ]
    },
    {
      "cell_type": "code",
      "source": [
        "\n",
        "\n",
        "tkr = \"NVDA\"\n",
        "while(True):\n",
        "  if (trades_active()): #If trade active wait\n",
        "    time.sleep(3600)\n",
        "  elif(puts_cycle(tkr)): #If  own 100 stocks\n",
        "    sell_puts(tkr)\n",
        "  else:\n",
        "    sell_calls(tkr)\n"
      ],
      "metadata": {
        "id": "gHO0JceglV29",
        "colab": {
          "base_uri": "https://localhost:8080/",
          "height": 402
        },
        "outputId": "2bee63a4-8c43-4d9f-8e73-8e6e97fd5014"
      },
      "execution_count": 1,
      "outputs": [
        {
          "output_type": "stream",
          "name": "stdout",
          "text": [
            "Requirement already satisfied: requests in /usr/local/lib/python3.10/dist-packages (2.32.3)\n",
            "Requirement already satisfied: charset-normalizer<4,>=2 in /usr/local/lib/python3.10/dist-packages (from requests) (3.3.2)\n",
            "Requirement already satisfied: idna<4,>=2.5 in /usr/local/lib/python3.10/dist-packages (from requests) (3.8)\n",
            "Requirement already satisfied: urllib3<3,>=1.21.1 in /usr/local/lib/python3.10/dist-packages (from requests) (2.0.7)\n",
            "Requirement already satisfied: certifi>=2017.4.17 in /usr/local/lib/python3.10/dist-packages (from requests) (2024.8.30)\n",
            "Requirement already satisfied: pandas in /usr/local/lib/python3.10/dist-packages (2.1.4)\n",
            "Requirement already satisfied: numpy<2,>=1.22.4 in /usr/local/lib/python3.10/dist-packages (from pandas) (1.26.4)\n",
            "Requirement already satisfied: python-dateutil>=2.8.2 in /usr/local/lib/python3.10/dist-packages (from pandas) (2.8.2)\n",
            "Requirement already satisfied: pytz>=2020.1 in /usr/local/lib/python3.10/dist-packages (from pandas) (2024.1)\n",
            "Requirement already satisfied: tzdata>=2022.1 in /usr/local/lib/python3.10/dist-packages (from pandas) (2024.1)\n",
            "Requirement already satisfied: six>=1.5 in /usr/local/lib/python3.10/dist-packages (from python-dateutil>=2.8.2->pandas) (1.16.0)\n"
          ]
        },
        {
          "output_type": "error",
          "ename": "NameError",
          "evalue": "name 'trades_active' is not defined",
          "traceback": [
            "\u001b[0;31m---------------------------------------------------------------------------\u001b[0m",
            "\u001b[0;31mNameError\u001b[0m                                 Traceback (most recent call last)",
            "\u001b[0;32m<ipython-input-1-1a71b1a7cece>\u001b[0m in \u001b[0;36m<cell line: 6>\u001b[0;34m()\u001b[0m\n\u001b[1;32m      5\u001b[0m \u001b[0mtkr\u001b[0m \u001b[0;34m=\u001b[0m \u001b[0;34m\"NVDA\"\u001b[0m\u001b[0;34m\u001b[0m\u001b[0;34m\u001b[0m\u001b[0m\n\u001b[1;32m      6\u001b[0m \u001b[0;32mwhile\u001b[0m\u001b[0;34m(\u001b[0m\u001b[0;32mTrue\u001b[0m\u001b[0;34m)\u001b[0m\u001b[0;34m:\u001b[0m\u001b[0;34m\u001b[0m\u001b[0;34m\u001b[0m\u001b[0m\n\u001b[0;32m----> 7\u001b[0;31m   \u001b[0;32mif\u001b[0m \u001b[0;34m(\u001b[0m\u001b[0mtrades_active\u001b[0m\u001b[0;34m(\u001b[0m\u001b[0;34m)\u001b[0m\u001b[0;34m)\u001b[0m\u001b[0;34m:\u001b[0m \u001b[0;31m#If trade active wait\u001b[0m\u001b[0;34m\u001b[0m\u001b[0;34m\u001b[0m\u001b[0m\n\u001b[0m\u001b[1;32m      8\u001b[0m     \u001b[0mtime\u001b[0m\u001b[0;34m.\u001b[0m\u001b[0msleep\u001b[0m\u001b[0;34m(\u001b[0m\u001b[0;36m3600\u001b[0m\u001b[0;34m)\u001b[0m\u001b[0;34m\u001b[0m\u001b[0;34m\u001b[0m\u001b[0m\n\u001b[1;32m      9\u001b[0m   \u001b[0;32melif\u001b[0m\u001b[0;34m(\u001b[0m\u001b[0mputs_cycle\u001b[0m\u001b[0;34m(\u001b[0m\u001b[0mtkr\u001b[0m\u001b[0;34m)\u001b[0m\u001b[0;34m)\u001b[0m\u001b[0;34m:\u001b[0m \u001b[0;31m#If  own 100 stocks\u001b[0m\u001b[0;34m\u001b[0m\u001b[0;34m\u001b[0m\u001b[0m\n",
            "\u001b[0;31mNameError\u001b[0m: name 'trades_active' is not defined"
          ]
        }
      ]
    }
  ]
}